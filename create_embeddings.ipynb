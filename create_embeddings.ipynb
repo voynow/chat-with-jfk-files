{
 "cells": [
  {
   "cell_type": "code",
   "execution_count": 11,
   "metadata": {},
   "outputs": [],
   "source": [
    "%reload_ext autoreload\n",
    "%autoreload 2"
   ]
  },
  {
   "cell_type": "code",
   "execution_count": 1,
   "metadata": {},
   "outputs": [],
   "source": [
    "import os\n",
    "from openai import OpenAI\n",
    "import numpy as np\n",
    "import asyncio\n",
    "from typing import List\n",
    "from pdf2image import convert_from_path\n",
    "import pytesseract\n",
    "from concurrent.futures import ThreadPoolExecutor\n",
    "import polars as pl\n",
    "from dotenv import load_dotenv\n",
    "\n",
    "load_dotenv()\n",
    "client = OpenAI()"
   ]
  },
  {
   "cell_type": "code",
   "execution_count": 2,
   "metadata": {},
   "outputs": [
    {
     "data": {
      "text/plain": [
       "4460"
      ]
     },
     "execution_count": 2,
     "metadata": {},
     "output_type": "execute_result"
    }
   ],
   "source": [
    "len(os.listdir('pdfs'))"
   ]
  },
  {
   "cell_type": "code",
   "execution_count": 3,
   "metadata": {},
   "outputs": [],
   "source": [
    "def extract_text_from_pdf(path: str) -> str:\n",
    "    \"\"\"\n",
    "    Extract text from a PDF file using OCR.\n",
    "    :param path: Local path to PDF file\n",
    "    :return: Extracted text from the PDF\n",
    "    \"\"\"\n",
    "    images = convert_from_path(path)\n",
    "    text = \"\"\n",
    "    for img in images:\n",
    "        text += pytesseract.image_to_string(img)\n",
    "    return text\n",
    "\n",
    "def process_pdfs_parallel(directory: str, max_workers: int = 4):\n",
    "    \"\"\"\n",
    "    Process multiple PDFs in parallel.\n",
    "    :param directory: Directory containing PDF files\n",
    "    :param max_workers: Number of threads to use\n",
    "    :return: List of extracted text for each PDF\n",
    "    \"\"\"\n",
    "    pdf_files = [os.path.join(directory, f) for f in os.listdir(directory)[:100] if f.endswith(\".pdf\")]\n",
    "    with ThreadPoolExecutor(max_workers=max_workers) as executor:\n",
    "        results = list(executor.map(extract_text_from_pdf, pdf_files))\n",
    "    return results\n",
    "\n",
    "documents = process_pdfs_parallel('pdfs', max_workers=4)"
   ]
  },
  {
   "cell_type": "code",
   "execution_count": 4,
   "metadata": {},
   "outputs": [],
   "source": [
    "def create_chunks(documents: list, min_chunk_length: int = 250) -> list:\n",
    "    \"\"\"\n",
    "    Creates chunks from a list of documents with a minimum chunk length.\n",
    "    Smaller chunks are concatenated together until they reach the minimum length.\n",
    "    :param documents: List of document strings\n",
    "    :param min_chunk_length: Minimum length for each chunk\n",
    "    :return: List of chunks\n",
    "    \"\"\"\n",
    "    chunks = []\n",
    "    current_chunk = \"\"\n",
    "\n",
    "    for document in documents:\n",
    "        for part in document.split('\\n\\n'):\n",
    "            if len(current_chunk) + len(part) >= min_chunk_length:\n",
    "                current_chunk += (' ' + part)  # Add part to current chunk\n",
    "                chunks.append(current_chunk.strip())  # Save the chunk\n",
    "                current_chunk = \"\"  # Reset for the next chunk\n",
    "            else:\n",
    "                current_chunk += (' ' + part) if current_chunk else part  # Concatenate to current chunk\n",
    "\n",
    "    if current_chunk.strip():\n",
    "        chunks.append(current_chunk.strip())\n",
    "\n",
    "    return chunks\n",
    "\n",
    "\n",
    "chunks = create_chunks(documents)"
   ]
  },
  {
   "cell_type": "code",
   "execution_count": 5,
   "metadata": {},
   "outputs": [],
   "source": [
    "from pathlib import Path\n",
    "\n",
    "async def fetch_batch_embeddings(\n",
    "    texts: List[str], \n",
    "    model: str = \"text-embedding-3-small\"\n",
    ") -> List[List[float]]:\n",
    "    \"\"\"Fetch embeddings for a single batch asynchronously.\"\"\"\n",
    "    response = await asyncio.to_thread(\n",
    "        client.embeddings.create, \n",
    "        input=texts, \n",
    "        model=model\n",
    "    )\n",
    "    return [item.embedding for item in response.data]\n",
    "\n",
    "async def get_batch_embeddings_async(\n",
    "    texts: List[str], \n",
    "    model: str = \"text-embedding-3-small\", \n",
    "    batch_size: int = 16\n",
    ") -> np.ndarray:\n",
    "    \"\"\"Asynchronously fetch embeddings in batches.\"\"\"\n",
    "    tasks = []\n",
    "    for i in range(0, len(texts), batch_size):\n",
    "        batch = texts[i:i + batch_size]\n",
    "        tasks.append(fetch_batch_embeddings(batch, model))\n",
    "    \n",
    "    # Process all batches concurrently\n",
    "    results = await asyncio.gather(*tasks)\n",
    "    return np.array([embedding for batch in results for embedding in batch])\n",
    "\n",
    "\n",
    "async def save_embeddings(filepath: Path, texts: List[str], embeddings: np.ndarray):\n",
    "    \"\"\"Save embeddings and texts to a Parquet file using Polars.\"\"\"\n",
    "    # Ensure the directory exists\n",
    "    filepath = Path(filepath)  # Ensure it’s a Path object\n",
    "    filepath.parent.mkdir(parents=True, exist_ok=True)\n",
    "\n",
    "    # Create a Polars DataFrame\n",
    "    df = pl.DataFrame({\n",
    "        \"text\": texts,\n",
    "        \"embedding\": [embedding.tolist() for embedding in embeddings]  # Convert numpy array to list\n",
    "    })\n",
    "\n",
    "    # Save the DataFrame as a Parquet file\n",
    "    await asyncio.to_thread(df.write_parquet, str(filepath))\n",
    "\n",
    "async def load_embeddings(filepath: Path) -> pl.DataFrame:\n",
    "    \"\"\"Load embeddings and texts from a Parquet file using Polars.\"\"\"\n",
    "    return await asyncio.to_thread(pl.read_parquet, str(filepath))\n",
    "\n",
    "\n",
    "embeddings = await get_batch_embeddings_async(\n",
    "    chunks, model=\"text-embedding-3-small\", batch_size=16\n",
    ")\n",
    "\n",
    "# Save embeddings to disk\n",
    "output_file = Path(\"embeddings/embeddings.parquet\")\n",
    "await save_embeddings(embeddings=embeddings, texts=chunks, filepath=output_file)\n",
    "\n",
    "# Load embeddings later\n",
    "df = await load_embeddings(output_file)"
   ]
  }
 ],
 "metadata": {
  "kernelspec": {
   "display_name": ".venv",
   "language": "python",
   "name": "python3"
  },
  "language_info": {
   "codemirror_mode": {
    "name": "ipython",
    "version": 3
   },
   "file_extension": ".py",
   "mimetype": "text/x-python",
   "name": "python",
   "nbconvert_exporter": "python",
   "pygments_lexer": "ipython3",
   "version": "3.11.9"
  }
 },
 "nbformat": 4,
 "nbformat_minor": 2
}
